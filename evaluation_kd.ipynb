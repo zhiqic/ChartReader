{
 "cells": [
  {
   "cell_type": "code",
   "execution_count": 1,
   "metadata": {
    "tags": []
   },
   "outputs": [],
   "source": [
    "from db.datasets import datasets\n",
    "from config import system_configs\n",
    "import json, os\n",
    "import numpy as np\n",
    "from tqdm import tqdm\n",
    "from sklearn.metrics import average_precision_score"
   ]
  },
  {
   "cell_type": "code",
   "execution_count": 4,
   "metadata": {
    "tags": []
   },
   "outputs": [
    {
     "name": "stdout",
     "output_type": "stream",
     "text": [
      "Label file: data/clsdata(1031)/cls/annotations/chart_val2019.json\n",
      "Loading from cache file: data/clsdata(1031)/cache/chart_val2019.pkl\n",
      "Loading annotations into memory...\n"
     ]
    },
    {
     "name": "stdout",
     "output_type": "stream",
     "text": [
      "Done (t=0.45s)\n"
     ]
    }
   ],
   "source": [
    "with open('config/KPDetection.json', \"r\") as f:\n",
    "    configs = json.load(f)\n",
    "    \n",
    "split = 'valchart'\n",
    "\n",
    "configs[\"system\"][\"data_dir\"] = \"data/clsdata(1031)/\"\n",
    "configs[\"system\"][\"cache_dir\"] = \"data/clsdata(1031)/cache/\"\n",
    "\n",
    "configs[\"system\"][\"dataset\"] = \"Chart\"\n",
    "configs[\"system\"][\"snapshot_name\"] = \"PretrainKP\"\n",
    "system_configs.update_config(configs[\"system\"])\n",
    "db = datasets[\"Chart\"](configs[\"db\"], split)"
   ]
  },
  {
   "cell_type": "code",
   "execution_count": 5,
   "metadata": {},
   "outputs": [],
   "source": [
    "def get_pie_center(a, b, c):\n",
    "    a,b,c = np.array(a), np.array(b), np.array(c)\n",
    "    ca = c - a\n",
    "    cb = c - b\n",
    "    cosine_angle = np.dot(ca, cb) / (np.linalg.norm(ca) * np.linalg.norm(cb))\n",
    "    angle = np.arccos(cosine_angle)\n",
    "    r_square = (ca**2).sum()\n",
    "    \n",
    "    if ca[0]*cb[1]-ca[1]*cb[0] >= 0:\n",
    "        return (a[0]+b[0]+c[0])/3., (a[1]+b[1]+c[1])/3., 0.5 * angle * r_square\n",
    "    else:\n",
    "        return 2*c[0]-(a[0]+b[0]+c[0])/3., 2*c[1]-(a[1]+b[1]+c[1])/3., np.pi * r_square - 0.5 * angle * r_square\n",
    "\n",
    "def get_points(gts, preds, chartType):\n",
    "    gt_keys, gt_cens = [], []\n",
    "    area = 0\n",
    "    \n",
    "    if chartType == 'Bar':\n",
    "        for bbox in gts.tolist():\n",
    "            area = (bbox[2] - bbox[0]) * (bbox[3] - bbox[1]) \n",
    "            gt_keys.append((bbox[0],bbox[1], area))\n",
    "            gt_keys.append((bbox[2],bbox[3], area))\n",
    "            gt_cens.append( ( (bbox[0] + bbox[2])/2, (bbox[1] + bbox[3])/2, area ) )\n",
    "    elif chartType == 'Pie':\n",
    "        for bbox in gts.tolist():\n",
    "            a, b, c = (bbox[0], bbox[1]), (bbox[2], bbox[3]), (bbox[4], bbox[5])\n",
    "            xce, yce, area = get_pie_center(a,b,c)                \n",
    "            gt_keys.append((bbox[0],bbox[1], area))\n",
    "            gt_keys.append((bbox[2],bbox[3], area))\n",
    "            gt_keys.append((bbox[4],bbox[5], area))\n",
    "            gt_cens.append((xce, yce, area))   \n",
    "    elif chartType == 'Line':\n",
    "        for bbox in gts[0]:\n",
    "            detection = np.array(bbox)\n",
    "            if len(detection) <= 1: continue\n",
    "            elif len(detection)//2 % 2 == 0:\n",
    "                mid = len(detection) // 2\n",
    "                xce, yce = (detection[mid-2] + detection[mid]) / 2, (detection[mid-1] + detection[mid+1]) / 2\n",
    "            else:\n",
    "                mid = len(detection) // 2\n",
    "                xce, yce = detection[mid-1].copy(), detection[mid].copy()\n",
    "            assert len(detection) % 2 == 0\n",
    "            xs = detection[0:len(detection):2]\n",
    "            ys = detection[1:len(detection):2]\n",
    "            area = (max(max(xs) - min(xs), max(ys) - min(ys)) / len(detection) * 2) ** 2\n",
    "                \n",
    "            for x, y in zip(xs, ys):\n",
    "                gt_keys.append((x,y, area))\n",
    "            gt_cens.append((xce, yce, area))   \n",
    "\n",
    "    pred_keys, pred_cens = [], []\n",
    "    if '1' not in preds[0]: # baseline predictions\n",
    "        if chartType == 'Pie':\n",
    "            pred_keys.append((preds[0][0][0], preds[0][0][1], preds[0][-1]))\n",
    "            for pred in preds:\n",
    "                pred_keys.append((pred[1][0], pred[1][1], pred[-1]))\n",
    "        elif chartType == 'Line':\n",
    "            for pred in preds:\n",
    "                pred_groups.append(np.array(pred))\n",
    "        else:\n",
    "            for pred in preds:\n",
    "                pred_keys.append((pred[0],pred[1], 1.))\n",
    "                pred_keys.append((pred[2],pred[3], 1.))\n",
    "    else:  \n",
    "        for point in preds[0]['1']:\n",
    "            pred_keys.append((point[2],point[3], point[0]))\n",
    "        for point in preds[1]['1']:\n",
    "            pred_cens.append((point[2],point[3], point[0]))\n",
    "    return gt_keys, gt_cens, pred_keys, pred_cens"
   ]
  },
  {
   "cell_type": "code",
   "execution_count": 6,
   "metadata": {},
   "outputs": [],
   "source": [
    "def OKS(gt_p, pred_p):\n",
    "    d2 = (gt_p[0] - pred_p[0]) ** 2 + (gt_p[1] - pred_p[1]) ** 2\n",
    "    k2 = 0.1\n",
    "    s2 = gt_p[2]\n",
    "    return np.exp(d2/(s2 * k2) * (-1))\n",
    "\n",
    "def computeTargetLabel(gt_ps, pred_ps, thres=0.75):\n",
    "    y_true = []\n",
    "    for pred_p in pred_ps:\n",
    "        found = False\n",
    "        for gt_p in gt_ps:\n",
    "            if OKS(gt_p, pred_p) > thres:\n",
    "                y_true.append(1)\n",
    "                found = True\n",
    "                break\n",
    "        if not found:\n",
    "            y_true.append(0)\n",
    "    return y_true\n",
    "\n",
    "#用于计算给定阈值（默认为 0.75）下，哪些 ground truth 点（gt_ps）被预测点（pred_ps）成功检测到。\n",
    "def computeDetectedGT(gt_ps, pred_ps, thres=0.75):\n",
    "    # 初始化一个空列表 y_true，用于存储每个 ground truth 点是否被成功检测到（1 表示检测成功，0 表示未检测到）。\n",
    "    y_true = []\n",
    "    for gt_p in gt_ps:\n",
    "        found = False\n",
    "        for pred_p in pred_ps:\n",
    "            if OKS(gt_p, pred_p) > thres:\n",
    "                y_true.append(1)\n",
    "                found = True\n",
    "                break\n",
    "        # 如果遍历所有预测点后，found 仍为 False，说明当前 ground truth 点未被检测到。\n",
    "        if not found:\n",
    "            y_true.append(0)\n",
    "    return y_true"
   ]
  },
  {
   "cell_type": "code",
   "execution_count": 7,
   "metadata": {},
   "outputs": [],
   "source": [
    "import logging"
   ]
  },
  {
   "cell_type": "code",
   "execution_count": 8,
   "metadata": {},
   "outputs": [
    {
     "name": "stderr",
     "output_type": "stream",
     "text": [
      "100%|██████████| 50/50 [00:00<00:00, 13410.62it/s]\n"
     ]
    }
   ],
   "source": [
    "mAP_keys = []\n",
    "mAP_cens = []\n",
    "max_iter = db.db_inds.size\n",
    "logging.info(max_iter)\n",
    "for i in tqdm(range(50)):\n",
    "    db_ind = db.db_inds[i]\n",
    "    image_file = db.image_file(db_ind)\n",
    "    gts = db.detections(db_ind)\n",
    "    logging.info(image_file.split('/')[-1])"
   ]
  },
  {
   "cell_type": "code",
   "execution_count": 10,
   "metadata": {},
   "outputs": [
    {
     "name": "stdout",
     "output_type": "stream",
     "text": [
      "['d9b35c3434c9207ae4d8f5343c358804_d3d3Lmtva3V5by5jby5qcAk1Mi4xOTcuMTUyLjE1Ng==.xls-3-0.png', 'd53a3e90e6aa406aaa758b75f24cb70d_b2xhbWdyb3VwLmNvbQkxMzAuMjExLjgwLjE3OQ==-1-1.png', 'd4c91611538cf7ed24f2c541b8e1251a_d3d3LmNhZi5jb20JMjA5LjM1LjYxLjgz-7-0.png']\n"
     ]
    }
   ],
   "source": [
    "with open('evaluation/KPDetection5000.json') as f:\n",
    "    prediction = json.load(f)\n",
    "    \n",
    "mAP_keys = []\n",
    "mAP_cens = []\n",
    "max_iter = db.db_inds.size\n",
    "print(list(prediction.keys())[:3])"
   ]
  },
  {
   "cell_type": "code",
   "execution_count": 11,
   "metadata": {},
   "outputs": [
    {
     "name": "stderr",
     "output_type": "stream",
     "text": [
      "  0%|          | 0/3695 [00:00<?, ?it/s]\n"
     ]
    },
    {
     "ename": "NameError",
     "evalue": "name 'chartType' is not defined",
     "output_type": "error",
     "traceback": [
      "\u001b[0;31m---------------------------------------------------------------------------\u001b[0m",
      "\u001b[0;31mNameError\u001b[0m                                 Traceback (most recent call last)",
      "Cell \u001b[0;32mIn[11], line 14\u001b[0m\n\u001b[1;32m     12\u001b[0m \u001b[39mif\u001b[39;00m preds \u001b[39mis\u001b[39;00m \u001b[39mNone\u001b[39;00m \u001b[39mor\u001b[39;00m \u001b[39mlen\u001b[39m(preds) \u001b[39m==\u001b[39m \u001b[39m0\u001b[39m: \u001b[39mcontinue\u001b[39;00m\n\u001b[1;32m     13\u001b[0m \u001b[39mif\u001b[39;00m \u001b[39mlen\u001b[39m(preds) \u001b[39m==\u001b[39m \u001b[39m3\u001b[39m \u001b[39mand\u001b[39;00m \u001b[39mlen\u001b[39m(preds[\u001b[39m2\u001b[39m]) \u001b[39m==\u001b[39m \u001b[39m0\u001b[39m: \u001b[39mcontinue\u001b[39;00m\n\u001b[0;32m---> 14\u001b[0m gt_keys, gt_cens, pred_keys, pred_cens \u001b[39m=\u001b[39m get_points(gts, preds, chartType)\n\u001b[1;32m     16\u001b[0m \u001b[39m# 计算关于关键点（keys）的评估指标\u001b[39;00m\n\u001b[1;32m     17\u001b[0m y_true_keys \u001b[39m=\u001b[39m computeTargetLabel(gt_keys, pred_keys)\n",
      "\u001b[0;31mNameError\u001b[0m: name 'chartType' is not defined"
     ]
    }
   ],
   "source": [
    "for i in tqdm(range(max_iter)):\n",
    "    db_ind = db.db_inds[i]\n",
    "    #print(db_ind)\n",
    "    image_file = db.image_file(db_ind)\n",
    "    #print(image_file)\n",
    "    gts = db.detections(db_ind)\n",
    "    #print(gts)\n",
    "    # 如果没有 ground truth 数据，则跳过当前迭代。\n",
    "    if gts is None or len(gts) == 0: continue\n",
    "    #print(image_file.split('/')[-1])\n",
    "    preds = prediction[image_file.split('/')[-1]]\n",
    "    if preds is None or len(preds) == 0: continue\n",
    "    if len(preds) == 3 and len(preds[2]) == 0: continue\n",
    "    gt_keys, gt_cens, pred_keys, pred_cens = get_points(gts, preds, chartType)\n",
    "    \n",
    "    # 计算关于关键点（keys）的评估指标\n",
    "    y_true_keys = computeTargetLabel(gt_keys, pred_keys)\n",
    "    y_score_keys= [key[2] for key in pred_keys]\n",
    "    \n",
    "    detected_gt_keys = computeDetectedGT(gt_keys, pred_keys)\n",
    "    miss_count = len(detected_gt_keys) - sum(detected_gt_keys)\n",
    "    # 对漏检的 ground truth，其真实标签应为 1。\n",
    "    y_true_keys = y_true_keys + [1] * miss_count\n",
    "    # 漏检的 ground truth 的预测得分应为 0。\n",
    "    y_score_keys = y_score_keys + [0] * miss_count\n",
    "    \n",
    "    score = average_precision_score(y_true_keys, y_score_keys)\n",
    "#     if score < 0.3:\n",
    "#         logging.info(image_file)\n",
    "    mAP_keys = np.append(mAP_keys,score)\n",
    "    \n",
    "    # cens\n",
    "    y_true_cens = computeTargetLabel(gt_cens, pred_cens)\n",
    "    y_score_cens= [key[2] for key in pred_cens]\n",
    "    \n",
    "    detected_gt_cens = computeDetectedGT(gt_cens, pred_cens)\n",
    "    miss_count = len(detected_gt_cens) - sum(detected_gt_cens)\n",
    "    y_true_cens = y_true_cens + [1] * miss_count\n",
    "    y_score_cens = y_score_cens + [0] * miss_count\n",
    "    \n",
    "    mAP_cens = np.append(mAP_cens, average_precision_score(y_true_cens, y_score_cens))"
   ]
  },
  {
   "cell_type": "code",
   "execution_count": null,
   "metadata": {},
   "outputs": [],
   "source": [
    "mAP_keys = np.array(mAP_keys)\n",
    "mAP_cens = np.array(mAP_cens)\n",
    "print('mAP for keypoints:', mAP_keys[~np.isnan(mAP_keys)].mean(), \" mAP for center points:\",mAP_cens[~np.isnan(mAP_cens)].mean())"
   ]
  },
  {
   "cell_type": "raw",
   "metadata": {},
   "source": [
    "Bar\n",
    "Pretrain\n",
    "20000: mAP for keypoints: 0.9326495007132293  mAP for center points: 0.8995700191609417\n",
    "30000: mAP for keypoints: 0.9343866124190652  mAP for center points: 0.9122176663121926\n",
    "40000: mAP for keypoints: 0.9298282565615151  mAP for center points: 0.9174189234595004\n",
    "45000: mAP for keypoints: 0.9326490586926548  mAP for center points: 0.9305578592493033\n",
    "# 50000: mAP for keypoints: 0.9382949383241171  mAP for center points: 0.934661750030176\n",
    "\n",
    "Group\n",
    "100000: mAP for keypoints: 0.9339462723450954  mAP for center points: 0.9352132582825243\n",
    "\n",
    "Baseline\n"
   ]
  },
  {
   "cell_type": "raw",
   "metadata": {},
   "source": [
    "Pie\n",
    "Pretrain\n",
    "10000: mAP for keypoints: 0.7974330526071896  mAP for center points: 0.8774699626397044\n",
    "20000: mAP for keypoints: 0.8389286444930497  mAP for center points: 0.9085856514724818\n",
    "30000: mAP for keypoints: 0.8221687518314246  mAP for center points: 0.9377108103596379\n",
    "35000: mAP for keypoints: 0.8175109947484652  mAP for center points: 0.9272794677969828\n",
    "# 40000: mAP for keypoints: 0.8545516112293217  mAP for center points: 0.9341142127441702\n",
    "45000: mAP for keypoints: 0.8547302082119888  mAP for center points: 0.9334480413554086\n",
    "50000: mAP for keypoints: 0.8430887539653378  mAP for center points: 0.9324592904647075\n",
    "\n",
    "Group\n",
    "30000: mAP for keypoints: 0.8614380524520219  mAP for center points: 0.9366983488174064\n",
    "nms_kernel=1, group\n",
    "30000: mAP for keypoints: 0.9621433264308094  mAP for center points: 0.8999689547913177\n",
    "100000: mAP for keypoints: 0.8494742579592995  mAP for center points: 0.9327628746190717\n",
    "\n",
    "Baseline:\n",
    "mAP for keypoints: 0.9983153129386391\n"
   ]
  },
  {
   "cell_type": "raw",
   "metadata": {},
   "source": [
    "Line\n",
    "Pretrain\n",
    "20000: mAP for keypoints: 0.7659614635195248  mAP for center points: 0.3340902573547323\n",
    "25000: mAP for keypoints: 0.7872480927795853  mAP for center points: 0.4029392252515496\n",
    "30000: mAP for keypoints: 0.7944445579029741  mAP for center points: 0.42013902373147155\n",
    "35000: mAP for keypoints: 0.7988398032631286  mAP for center points: 0.4227207517930727\n",
    "# 40000: mAP for keypoints: 0.800922937928998  mAP for center points: 0.416297523266252\n",
    "\n",
    "Group\n",
    "100000: mAP for keypoints: 0.8228800442205714  mAP for center points: 0.6108798060223409\n",
    "Baseline"
   ]
  }
 ],
 "metadata": {
  "kernelspec": {
   "display_name": "Python 3",
   "language": "python",
   "name": "python3"
  },
  "language_info": {
   "codemirror_mode": {
    "name": "ipython",
    "version": 3
   },
   "file_extension": ".py",
   "mimetype": "text/x-python",
   "name": "python",
   "nbconvert_exporter": "python",
   "pygments_lexer": "ipython3",
   "version": "3.11.3"
  }
 },
 "nbformat": 4,
 "nbformat_minor": 4
}
